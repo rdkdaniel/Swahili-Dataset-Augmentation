{
  "nbformat": 4,
  "nbformat_minor": 0,
  "metadata": {
    "colab": {
      "name": "Complete The Swahili Augmentation",
      "provenance": [],
      "authorship_tag": "ABX9TyP5fldBxwQHXos8Wi93fNjT",
      "include_colab_link": true
    },
    "kernelspec": {
      "name": "python3",
      "display_name": "Python 3"
    },
    "language_info": {
      "name": "python"
    }
  },
  "cells": [
    {
      "cell_type": "markdown",
      "metadata": {
        "id": "view-in-github",
        "colab_type": "text"
      },
      "source": [
        "<a href=\"https://colab.research.google.com/github/rdkdaniel/Swahili-Dataset-Augmentation/blob/main/Complete_The_Swahili_Augmentation.ipynb\" target=\"_parent\"><img src=\"https://colab.research.google.com/assets/colab-badge.svg\" alt=\"Open In Colab\"/></a>"
      ]
    },
    {
      "cell_type": "code",
      "execution_count": null,
      "metadata": {
        "id": "ELzFuWYcjZF_"
      },
      "outputs": [],
      "source": [
        ""
      ]
    }
  ]
}