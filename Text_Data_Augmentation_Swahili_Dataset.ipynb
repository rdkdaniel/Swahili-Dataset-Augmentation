{
  "nbformat": 4,
  "nbformat_minor": 0,
  "metadata": {
    "colab": {
      "name": "Text Data Augmentation: Swahili Dataset",
      "provenance": [],
      "authorship_tag": "ABX9TyOhqe7A7KfIRzpqr4ntJTy9",
      "include_colab_link": true
    },
    "kernelspec": {
      "name": "python3",
      "display_name": "Python 3"
    },
    "language_info": {
      "name": "python"
    }
  },
  "cells": [
    {
      "cell_type": "markdown",
      "metadata": {
        "id": "view-in-github",
        "colab_type": "text"
      },
      "source": [
        "<a href=\"https://colab.research.google.com/github/rdkdaniel/Swahili-Dataset-Augmentation/blob/main/Text_Data_Augmentation_Swahili_Dataset.ipynb\" target=\"_parent\"><img src=\"https://colab.research.google.com/assets/colab-badge.svg\" alt=\"Open In Colab\"/></a>"
      ]
    },
    {
      "cell_type": "code",
      "execution_count": 1,
      "metadata": {
        "id": "olyLc7DKDrnb"
      },
      "outputs": [],
      "source": [
        "#Test with a few swahili sentences"
      ]
    },
    {
      "cell_type": "code",
      "source": [
        "#Install and Import library\n",
        "!pip install nlpaug"
      ],
      "metadata": {
        "colab": {
          "base_uri": "https://localhost:8080/"
        },
        "id": "VzNK6jn0EpLZ",
        "outputId": "82a98069-03d5-4062-f6e0-a337047162cf"
      },
      "execution_count": 4,
      "outputs": [
        {
          "output_type": "stream",
          "name": "stdout",
          "text": [
            "Looking in indexes: https://pypi.org/simple, https://us-python.pkg.dev/colab-wheels/public/simple/\n",
            "Collecting nlpaug\n",
            "  Downloading nlpaug-1.1.11-py3-none-any.whl (410 kB)\n",
            "\u001b[K     |████████████████████████████████| 410 kB 5.4 MB/s \n",
            "\u001b[?25hRequirement already satisfied: pandas>=1.2.0 in /usr/local/lib/python3.7/dist-packages (from nlpaug) (1.3.5)\n",
            "Requirement already satisfied: numpy>=1.16.2 in /usr/local/lib/python3.7/dist-packages (from nlpaug) (1.21.6)\n",
            "Requirement already satisfied: gdown>=4.0.0 in /usr/local/lib/python3.7/dist-packages (from nlpaug) (4.4.0)\n",
            "Requirement already satisfied: requests>=2.22.0 in /usr/local/lib/python3.7/dist-packages (from nlpaug) (2.23.0)\n",
            "Requirement already satisfied: beautifulsoup4 in /usr/local/lib/python3.7/dist-packages (from gdown>=4.0.0->nlpaug) (4.6.3)\n",
            "Requirement already satisfied: six in /usr/local/lib/python3.7/dist-packages (from gdown>=4.0.0->nlpaug) (1.15.0)\n",
            "Requirement already satisfied: filelock in /usr/local/lib/python3.7/dist-packages (from gdown>=4.0.0->nlpaug) (3.7.1)\n",
            "Requirement already satisfied: tqdm in /usr/local/lib/python3.7/dist-packages (from gdown>=4.0.0->nlpaug) (4.64.0)\n",
            "Requirement already satisfied: pytz>=2017.3 in /usr/local/lib/python3.7/dist-packages (from pandas>=1.2.0->nlpaug) (2022.1)\n",
            "Requirement already satisfied: python-dateutil>=2.7.3 in /usr/local/lib/python3.7/dist-packages (from pandas>=1.2.0->nlpaug) (2.8.2)\n",
            "Requirement already satisfied: chardet<4,>=3.0.2 in /usr/local/lib/python3.7/dist-packages (from requests>=2.22.0->nlpaug) (3.0.4)\n",
            "Requirement already satisfied: idna<3,>=2.5 in /usr/local/lib/python3.7/dist-packages (from requests>=2.22.0->nlpaug) (2.10)\n",
            "Requirement already satisfied: certifi>=2017.4.17 in /usr/local/lib/python3.7/dist-packages (from requests>=2.22.0->nlpaug) (2022.6.15)\n",
            "Requirement already satisfied: urllib3!=1.25.0,!=1.25.1,<1.26,>=1.21.1 in /usr/local/lib/python3.7/dist-packages (from requests>=2.22.0->nlpaug) (1.24.3)\n",
            "Requirement already satisfied: PySocks!=1.5.7,>=1.5.6 in /usr/local/lib/python3.7/dist-packages (from requests>=2.22.0->nlpaug) (1.7.1)\n",
            "Installing collected packages: nlpaug\n",
            "Successfully installed nlpaug-1.1.11\n"
          ]
        }
      ]
    },
    {
      "cell_type": "code",
      "source": [
        "import nlpaug.augmenter.char as nac\n",
        "import nlpaug.augmenter.word as naw\n",
        "import nlpaug.augmenter.sentence as nas\n",
        "import nlpaug.flow as nafc"
      ],
      "metadata": {
        "id": "8JcD-3FWEvk5"
      },
      "execution_count": 8,
      "outputs": []
    },
    {
      "cell_type": "code",
      "source": [
        "# This will be the base text which we will be using throughout this notebook\n",
        "text=\"Jina langu ni Kiguru. Jina lako ni nani?.\""
      ],
      "metadata": {
        "id": "49gsrK8IG6LI"
      },
      "execution_count": 10,
      "outputs": []
    },
    {
      "cell_type": "markdown",
      "source": [
        "**Character Level Augmentation**\n"
      ],
      "metadata": {
        "id": "bYcRHvp2F-qx"
      }
    },
    {
      "cell_type": "markdown",
      "source": [
        "**optical character recognition (OCR) Augmenter**: To read textual data from on image, we need an OCR(optical character recognition) model. \n",
        "Once the text is extracted from the image, there may be errors like; '0' instead of an 'o', '2' instead of 'z' and other such similar errors.\n",
        "\n",
        "**Keyboard Augmenter:** While typing/texting typos are fairly common this augmenter simulates the errors by substituting characters in words with \n",
        "ones at a similar distance on a keyboard."
      ],
      "metadata": {
        "id": "MGD4DQRLGa3C"
      }
    },
    {
      "cell_type": "code",
      "source": [
        "# First, the OCR augmenter\n",
        "# import nlpaug.augmenter.char as nac (already done above)\n",
        "\n",
        "aug = nac.OcrAug()  \n",
        "augmented_texts = aug.augment(text, n=3) # specifying n=3 gives us only 3 augmented versions of the sentence.\n",
        "\n",
        "print(\"Original:\")\n",
        "print(text)\n",
        "\n",
        "print(\"Augmented Texts:\")\n",
        "print(augmented_texts)"
      ],
      "metadata": {
        "colab": {
          "base_uri": "https://localhost:8080/"
        },
        "id": "I-jXnIroGe5D",
        "outputId": "cf2b1541-f1bc-41e6-d3b5-9ca89d60a1a8"
      },
      "execution_count": 12,
      "outputs": [
        {
          "output_type": "stream",
          "name": "stdout",
          "text": [
            "Original:\n",
            "Jina langu ni Kiguru. Jina lako ni nani?.\n",
            "Augmented Texts:\n",
            "['Jina langu ni Kiguru. Jina lako ni nani?.', 'Jina langu ni Kiguru. Jina 1aku ni nani?.', 'Jina langu ni Kiguru. Jina lar0 ni nani?.']\n"
          ]
        }
      ]
    },
    {
      "cell_type": "code",
      "source": [
        "# Second, the keyboard Augmenter\n",
        "# import nlpaug.augmenter.word as naw (already done above)\n",
        "\n",
        "\n",
        "aug = nac.KeyboardAug()\n",
        "augmented_text = aug.augment(text, n=3) # specifying n=3 gives us only 3 augmented versions of the sentence.\n",
        "\n",
        "print(\"Original:\")\n",
        "print(text)\n",
        "\n",
        "print(\"Augmented Text:\")\n",
        "print(augmented_text)"
      ],
      "metadata": {
        "colab": {
          "base_uri": "https://localhost:8080/"
        },
        "id": "mviJk_ylHf1q",
        "outputId": "c676d88d-7af9-4c66-da81-6a3419c5cf6b"
      },
      "execution_count": 13,
      "outputs": [
        {
          "output_type": "stream",
          "name": "stdout",
          "text": [
            "Original:\n",
            "Jina langu ni Kiguru. Jina lako ni nani?.\n",
            "Augmented Text:\n",
            "['J8ba lqnfu ni >ig6ru. K(na lako ni nani?.', 'Jina pang& ni Kinutu. Jina Ixko ni HSni?.', 'JkJa lQmgu ni Kiguru. Jina ,xko ni gQni?.']\n"
          ]
        }
      ]
    },
    {
      "cell_type": "markdown",
      "source": [
        "**NOTE: There are other types of character augmenters too. Go read about them!**"
      ],
      "metadata": {
        "id": "PCmxHBASHtkU"
      }
    },
    {
      "cell_type": "markdown",
      "source": [
        "**Word Level Augmenter**"
      ],
      "metadata": {
        "id": "aiExysmgLW33"
      }
    },
    {
      "cell_type": "markdown",
      "source": [
        "Word-level is important as well. It makes use of word2vec, GloVe, fast text, BERT, and wordnet to insert and substitute similar words."
      ],
      "metadata": {
        "id": "ciHrIhIaMxWV"
      }
    },
    {
      "cell_type": "markdown",
      "source": [
        "NLPAUG provides 7 functions to perform word augmenter: SpellingAug, WordEmbsAug, TfIdfAug, ContextualWordEmbsAug, FasttextAug, BertAug and, WordNetAug"
      ],
      "metadata": {
        "id": "piPG3SC4M6MX"
      }
    },
    {
      "cell_type": "code",
      "source": [
        "#Spelling augmentor\n",
        "aug = naw.SpellingAug()\n",
        "augmented_texts = aug.augment(text, n=3)\n",
        "\n",
        "print(\"Original:\")\n",
        "print(text)\n",
        "print(\"Augmented Texts:\")\n",
        "print(augmented_texts)"
      ],
      "metadata": {
        "colab": {
          "base_uri": "https://localhost:8080/"
        },
        "id": "JBIEYzyqNQYJ",
        "outputId": "9c413fde-29d3-4fd5-b968-a966e89a108f"
      },
      "execution_count": 15,
      "outputs": [
        {
          "output_type": "stream",
          "name": "stdout",
          "text": [
            "Original:\n",
            "Jina langu ni Kiguru. Jina lako ni nani?.\n",
            "Augmented Texts:\n",
            "['Jina langu Ni Kiguru. Jina lako in nine?.', 'Jina langu Ni Kiguru. Jina lako Ni nine?.', 'Jina langu in Kiguru. Jina lako Ni Nani?.']\n"
          ]
        }
      ]
    },
    {
      "cell_type": "code",
      "source": [
        "#WordEmbsAug: Leverage word2vec, GloVe, or fasttext embeddings to apply augmentation\n",
        "aug = naw.WordEmbsAug(model_type='word2vec', model_path=model_dir+'GoogleNews-vectors-negative300.bin', action=\"insert\")\n",
        "augmented_text = aug.augment(text)\n",
        "\n",
        "print(\"Original:\")\n",
        "print(text)\n",
        "print(\"Augmented Text:\")\n",
        "print(augmented_text)"
      ],
      "metadata": {
        "colab": {
          "base_uri": "https://localhost:8080/",
          "height": 241
        },
        "id": "juufG8nUNilJ",
        "outputId": "2600b3e5-423a-428e-e087-499fabd7b918"
      },
      "execution_count": 19,
      "outputs": [
        {
          "output_type": "error",
          "ename": "NameError",
          "evalue": "ignored",
          "traceback": [
            "\u001b[0;31m---------------------------------------------------------------------------\u001b[0m",
            "\u001b[0;31mNameError\u001b[0m                                 Traceback (most recent call last)",
            "\u001b[0;32m<ipython-input-19-6684f09b6acd>\u001b[0m in \u001b[0;36m<module>\u001b[0;34m()\u001b[0m\n\u001b[1;32m      1\u001b[0m \u001b[0;31m#WordEmbsAug: Leverage word2vec, GloVe, or fasttext embeddings to apply augmentation\u001b[0m\u001b[0;34m\u001b[0m\u001b[0;34m\u001b[0m\u001b[0;34m\u001b[0m\u001b[0m\n\u001b[0;32m----> 2\u001b[0;31m \u001b[0maug\u001b[0m \u001b[0;34m=\u001b[0m \u001b[0mnaw\u001b[0m\u001b[0;34m.\u001b[0m\u001b[0mWordEmbsAug\u001b[0m\u001b[0;34m(\u001b[0m\u001b[0mmodel_type\u001b[0m\u001b[0;34m=\u001b[0m\u001b[0;34m'word2vec'\u001b[0m\u001b[0;34m,\u001b[0m \u001b[0mmodel_path\u001b[0m\u001b[0;34m=\u001b[0m\u001b[0mmodel_dir\u001b[0m\u001b[0;34m+\u001b[0m\u001b[0;34m'GoogleNews-vectors-negative300.bin'\u001b[0m\u001b[0;34m,\u001b[0m \u001b[0maction\u001b[0m\u001b[0;34m=\u001b[0m\u001b[0;34m\"insert\"\u001b[0m\u001b[0;34m)\u001b[0m\u001b[0;34m\u001b[0m\u001b[0;34m\u001b[0m\u001b[0m\n\u001b[0m\u001b[1;32m      3\u001b[0m \u001b[0maugmented_text\u001b[0m \u001b[0;34m=\u001b[0m \u001b[0maug\u001b[0m\u001b[0;34m.\u001b[0m\u001b[0maugment\u001b[0m\u001b[0;34m(\u001b[0m\u001b[0mtext\u001b[0m\u001b[0;34m)\u001b[0m\u001b[0;34m\u001b[0m\u001b[0;34m\u001b[0m\u001b[0m\n\u001b[1;32m      4\u001b[0m \u001b[0;34m\u001b[0m\u001b[0m\n\u001b[1;32m      5\u001b[0m \u001b[0mprint\u001b[0m\u001b[0;34m(\u001b[0m\u001b[0;34m\"Original:\"\u001b[0m\u001b[0;34m)\u001b[0m\u001b[0;34m\u001b[0m\u001b[0;34m\u001b[0m\u001b[0m\n",
            "\u001b[0;31mNameError\u001b[0m: name 'model_dir' is not defined"
          ]
        }
      ]
    },
    {
      "cell_type": "code",
      "source": [
        ""
      ],
      "metadata": {
        "id": "jN26KWfmPG05"
      },
      "execution_count": null,
      "outputs": []
    }
  ]
}