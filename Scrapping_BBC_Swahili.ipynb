{
  "nbformat": 4,
  "nbformat_minor": 0,
  "metadata": {
    "colab": {
      "name": "Scrapping BBC Swahili",
      "provenance": [],
      "authorship_tag": "ABX9TyM+CvPTkPQr2U7SZeclGk3G",
      "include_colab_link": true
    },
    "kernelspec": {
      "name": "python3",
      "display_name": "Python 3"
    },
    "language_info": {
      "name": "python"
    }
  },
  "cells": [
    {
      "cell_type": "markdown",
      "metadata": {
        "id": "view-in-github",
        "colab_type": "text"
      },
      "source": [
        "<a href=\"https://colab.research.google.com/github/rdkdaniel/Swahili-Dataset-Augmentation/blob/main/Scrapping_BBC_Swahili.ipynb\" target=\"_parent\"><img src=\"https://colab.research.google.com/assets/colab-badge.svg\" alt=\"Open In Colab\"/></a>"
      ]
    },
    {
      "cell_type": "code",
      "execution_count": 15,
      "metadata": {
        "id": "XJ2Q_hup1pHj"
      },
      "outputs": [],
      "source": [
        "#Libraries\n",
        "import requests\n",
        "from bs4 import BeautifulSoup\n",
        "import csv\n",
        "import pandas as pd"
      ]
    },
    {
      "cell_type": "code",
      "source": [
        "r = requests.get('https://github.com/rdkdaniel/Data-Analysis-in-Python-and-Sql/blob/main/Data_Analayis_in_Python_Billonares.ipynb')"
      ],
      "metadata": {
        "id": "ODTf5LTbPzUB"
      },
      "execution_count": 21,
      "outputs": []
    },
    {
      "cell_type": "code",
      "source": [
        "soup = BeautifulSoup(r.text, 'lxml')"
      ],
      "metadata": {
        "id": "3PUJ7pyXQCmh"
      },
      "execution_count": 22,
      "outputs": []
    },
    {
      "cell_type": "code",
      "source": [
        "f = csv.writer(open(' new.csv ','w'))\n",
        "f.writerow(['Title'])\n",
        "f.writerow([soup.title.text])"
      ],
      "metadata": {
        "colab": {
          "base_uri": "https://localhost:8080/"
        },
        "id": "_ud7qrtJQEjR",
        "outputId": "1df817ae-b29c-4458-f825-99199d5156b0"
      },
      "execution_count": 23,
      "outputs": [
        {
          "output_type": "execute_result",
          "data": {
            "text/plain": [
              "135"
            ]
          },
          "metadata": {},
          "execution_count": 23
        }
      ]
    },
    {
      "cell_type": "code",
      "source": [
        ""
      ],
      "metadata": {
        "id": "ZIPAkrkfQo-4"
      },
      "execution_count": null,
      "outputs": []
    }
  ]
}